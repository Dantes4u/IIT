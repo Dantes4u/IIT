{
 "cells": [
  {
   "cell_type": "code",
   "execution_count": 45,
   "metadata": {},
   "outputs": [],
   "source": [
    "%load_ext autoreload\n",
    "%autoreload 2"
   ]
  },
  {
   "cell_type": "markdown",
   "metadata": {},
   "source": [
    "# Импорт"
   ]
  },
  {
   "cell_type": "code",
   "execution_count": 37,
   "metadata": {},
   "outputs": [],
   "source": [
    "import os\n",
    "import numpy as np\n",
    "import pandas as pd\n",
    "import matplotlib.pyplot as plt\n",
    "from tqdm import tqdm\n",
    "\n",
    "from PIL import Image\n",
    "from skimage.draw import circle\n",
    "from skimage import transform, filters, exposure, feature\n",
    "from sklearn.model_selection import train_test_split\n",
    "import io\n",
    "from skimage.color import rgb2gray"
   ]
  },
  {
   "cell_type": "markdown",
   "metadata": {},
   "source": [
    "# Константы"
   ]
  },
  {
   "cell_type": "code",
   "execution_count": 11,
   "metadata": {},
   "outputs": [],
   "source": [
    "PATH = \"D:\\\\Medicine2020\\\\Kiestra\\\\NEW_preprocessed-kla-images\"\n",
    "DESCR = \"D:\\\\Medicine2020\\\\Kiestra\\\\NEW_preprocessed-kla-images\\ScansDescriptionWithPathCS.csv\"\n",
    "COLUMNS = [\"Номер\", \"Kiestra_ID\", \"Kiestra_BARCODE\", \"Kiestra_SCAN_NR\", \"Kiestra_CS_ID\", \"Kiestra_CS_DESCRIPTION\", \"SCAN_PATH\", \"Результат\"]\n",
    "GROUPS = [\"Unknown\", \"NoGrowth\"]"
   ]
  },
  {
   "cell_type": "markdown",
   "metadata": {},
   "source": [
    "Число участников-пациентов и процент тестовой выборки среди них. Пустой профиль означает все профили"
   ]
  },
  {
   "cell_type": "code",
   "execution_count": 12,
   "metadata": {},
   "outputs": [],
   "source": [
    "PROFILE = []#[\"Blood agar Colonies\"]\n",
    "CAP = 400 #100\n",
    "TRAIN = 0.8 # Если дробное то процент от CAP"
   ]
  },
  {
   "cell_type": "code",
   "execution_count": 13,
   "metadata": {},
   "outputs": [
    {
     "data": {
      "text/plain": [
       "array([[[[1]],\n",
       "\n",
       "        [[1]]],\n",
       "\n",
       "\n",
       "       [[[9]],\n",
       "\n",
       "        [[9]]]])"
      ]
     },
     "execution_count": 13,
     "metadata": {},
     "output_type": "execute_result"
    }
   ],
   "source": [
    "r = np.array([[[[1]]],[[[9]]]])\n",
    "np.repeat(r,2,axis = 1)"
   ]
  },
  {
   "cell_type": "code",
   "execution_count": 14,
   "metadata": {},
   "outputs": [
    {
     "data": {
      "text/plain": [
       "[0, 0, 3, 3, 3, 3]"
      ]
     },
     "execution_count": 14,
     "metadata": {},
     "output_type": "execute_result"
    }
   ],
   "source": [
    "y = [0]*2 + [3]*4\n",
    "y \n"
   ]
  },
  {
   "cell_type": "markdown",
   "metadata": {},
   "source": [
    "# Полезные функции"
   ]
  },
  {
   "cell_type": "markdown",
   "metadata": {},
   "source": [
    "Добавляем в данные булев столбец-результат"
   ]
  },
  {
   "cell_type": "code",
   "execution_count": 15,
   "metadata": {},
   "outputs": [],
   "source": [
    "def add_result(table, name=\"RESULT\"):\n",
    "    table = table.copy()\n",
    "    table[name] = [False if \"NoGrowth\" in x else True for x in table[\"SCAN_PATH\"]]\n",
    "    return table"
   ]
  },
  {
   "cell_type": "markdown",
   "metadata": {},
   "source": [
    "Способ выборки тестовой и тренировочной"
   ]
  },
  {
   "cell_type": "code",
   "execution_count": 16,
   "metadata": {},
   "outputs": [],
   "source": [
    "def select(index, cap, train):\n",
    "    if type(train) == int:\n",
    "        l = train\n",
    "    else:\n",
    "        l = int(cap * train)\n",
    "    return index[:l], index[l:cap]"
   ]
  },
  {
   "cell_type": "markdown",
   "metadata": {},
   "source": [
    "Подсчет ошибок"
   ]
  },
  {
   "cell_type": "code",
   "execution_count": 17,
   "metadata": {},
   "outputs": [],
   "source": [
    "def count(patients, model, error_condition=lambda x: x > 0):\n",
    "    errors = 0\n",
    "    files = []\n",
    "    for index in tqdm(patients):\n",
    "        filenames, vectors = build_vectors([index], silent=True)\n",
    "        if len(vectors) == 0:\n",
    "            patients = patients.delete(list(patients).index(index))\n",
    "            continue\n",
    "        pred = model.predict(vectors)\n",
    "        pred = np.rint(pred)\n",
    "        if error_condition(np.count_nonzero(pred)):\n",
    "            errors += 1\n",
    "            files += [filenames[i] for i in range(len(filenames)) if error_condition(pred[i])]\n",
    "    return patients, errors, files"
   ]
  },
  {
   "cell_type": "markdown",
   "metadata": {},
   "source": [
    "Подсчет ошибок в общем"
   ]
  },
  {
   "cell_type": "code",
   "execution_count": 18,
   "metadata": {},
   "outputs": [],
   "source": [
    "def eval(patients_0, patients_1, model):\n",
    "    _, vectors_0 = build_vectors(patients_0, silent=True)\n",
    "    _, vectors_1 = build_vectors(patients_1, silent=True)\n",
    "    X = np.concatenate((vectors_0, vectors_1))\n",
    "    Y = np.concatenate((np.zeros(len(vectors_0)), np.ones(len(vectors_1))))\n",
    "    result = np.rint(model.predict(X).flatten())\n",
    "    errors = np.count_nonzero(result - Y)\n",
    "    return errors, result"
   ]
  },
  {
   "cell_type": "markdown",
   "metadata": {},
   "source": [
    "Отображаем картинки"
   ]
  },
  {
   "cell_type": "code",
   "execution_count": 19,
   "metadata": {},
   "outputs": [],
   "source": [
    "def show_images(images, cols = 1, titles = None):\n",
    "    \"\"\"Display a list of images in a single figure with matplotlib.\n",
    "    \n",
    "    Parameters\n",
    "    ---------\n",
    "    images: List of np.arrays compatible with plt.imshow.\n",
    "    \n",
    "    cols (Default = 1): Number of columns in figure (number of rows is \n",
    "                        set to np.ceil(n_images/float(cols))).\n",
    "    \n",
    "    titles: List of titles corresponding to each image. Must have\n",
    "            the same length as titles.\n",
    "    \"\"\"\n",
    "    assert((titles is None)or (len(images) == len(titles)))\n",
    "    n_images = len(images)\n",
    "    if titles is None: titles = ['Image (%d)' % i for i in range(1,n_images + 1)]\n",
    "    fig = plt.figure()\n",
    "    for n, (image, title) in enumerate(zip(images, titles)):\n",
    "        a = fig.add_subplot(cols, np.ceil(n_images/float(cols)), n + 1)\n",
    "        if image.ndim == 2:\n",
    "            plt.gray()\n",
    "        plt.imshow(image)\n",
    "        a.set_title(title)\n",
    "    fig.set_size_inches(np.array(fig.get_size_inches()) * n_images * 2)\n",
    "    plt.show()"
   ]
  },
  {
   "cell_type": "markdown",
   "metadata": {},
   "source": [
    "# Считываем описание"
   ]
  },
  {
   "cell_type": "code",
   "execution_count": 20,
   "metadata": {},
   "outputs": [
    {
     "name": "stderr",
     "output_type": "stream",
     "text": [
      "C:\\ProgramData\\Anaconda3\\envs\\Lazuhin\\lib\\site-packages\\IPython\\core\\interactiveshell.py:3072: DtypeWarning: Columns (31,32,34,35,36) have mixed types.Specify dtype option on import or set low_memory=False.\n",
      "  interactivity=interactivity, compiler=compiler, result=result)\n"
     ]
    },
    {
     "data": {
      "text/html": [
       "<div>\n",
       "<style scoped>\n",
       "    .dataframe tbody tr th:only-of-type {\n",
       "        vertical-align: middle;\n",
       "    }\n",
       "\n",
       "    .dataframe tbody tr th {\n",
       "        vertical-align: top;\n",
       "    }\n",
       "\n",
       "    .dataframe thead th {\n",
       "        text-align: right;\n",
       "    }\n",
       "</style>\n",
       "<table border=\"1\" class=\"dataframe\">\n",
       "  <thead>\n",
       "    <tr style=\"text-align: right;\">\n",
       "      <th></th>\n",
       "      <th>Номер</th>\n",
       "      <th>Kiestra_ID</th>\n",
       "      <th>Kiestra_BARCODE</th>\n",
       "      <th>Kiestra_SCAN_NR</th>\n",
       "      <th>Kiestra_CS_ID</th>\n",
       "      <th>Kiestra_CS_DESCRIPTION</th>\n",
       "      <th>SCAN_PATH</th>\n",
       "      <th>Результат</th>\n",
       "      <th>RESULT</th>\n",
       "    </tr>\n",
       "  </thead>\n",
       "  <tbody>\n",
       "    <tr>\n",
       "      <th>0</th>\n",
       "      <td>9 991 750 612</td>\n",
       "      <td>4838661</td>\n",
       "      <td>C00002955441</td>\n",
       "      <td>1</td>\n",
       "      <td>2213</td>\n",
       "      <td>Default</td>\n",
       "      <td>Unknown\\9991750612\\C00002955441\\Default\\C00002...</td>\n",
       "      <td>11.0</td>\n",
       "      <td>True</td>\n",
       "    </tr>\n",
       "    <tr>\n",
       "      <th>1</th>\n",
       "      <td>9 991 750 612</td>\n",
       "      <td>4838661</td>\n",
       "      <td>C00002955441</td>\n",
       "      <td>1</td>\n",
       "      <td>2251</td>\n",
       "      <td>Blood agar General</td>\n",
       "      <td>Unknown\\9991750612\\C00002955441\\BloodAgarGener...</td>\n",
       "      <td>11.0</td>\n",
       "      <td>True</td>\n",
       "    </tr>\n",
       "    <tr>\n",
       "      <th>2</th>\n",
       "      <td>9 991 750 612</td>\n",
       "      <td>4838661</td>\n",
       "      <td>C00002955441</td>\n",
       "      <td>1</td>\n",
       "      <td>2252</td>\n",
       "      <td>Blood agar Colonies</td>\n",
       "      <td>Unknown\\9991750612\\C00002955441\\BloodAgarColon...</td>\n",
       "      <td>11.0</td>\n",
       "      <td>True</td>\n",
       "    </tr>\n",
       "    <tr>\n",
       "      <th>3</th>\n",
       "      <td>9 991 750 612</td>\n",
       "      <td>4839291</td>\n",
       "      <td>C00002955441</td>\n",
       "      <td>2</td>\n",
       "      <td>2214</td>\n",
       "      <td>Default</td>\n",
       "      <td>Unknown\\9991750612\\C00002955441\\Default\\C00002...</td>\n",
       "      <td>11.0</td>\n",
       "      <td>True</td>\n",
       "    </tr>\n",
       "    <tr>\n",
       "      <th>4</th>\n",
       "      <td>9 991 750 612</td>\n",
       "      <td>4839291</td>\n",
       "      <td>C00002955441</td>\n",
       "      <td>2</td>\n",
       "      <td>2253</td>\n",
       "      <td>Blood agar General</td>\n",
       "      <td>Unknown\\9991750612\\C00002955441\\BloodAgarGener...</td>\n",
       "      <td>11.0</td>\n",
       "      <td>True</td>\n",
       "    </tr>\n",
       "  </tbody>\n",
       "</table>\n",
       "</div>"
      ],
      "text/plain": [
       "           Номер  Kiestra_ID Kiestra_BARCODE  Kiestra_SCAN_NR  Kiestra_CS_ID  \\\n",
       "0  9 991 750 612     4838661    C00002955441                1           2213   \n",
       "1  9 991 750 612     4838661    C00002955441                1           2251   \n",
       "2  9 991 750 612     4838661    C00002955441                1           2252   \n",
       "3  9 991 750 612     4839291    C00002955441                2           2214   \n",
       "4  9 991 750 612     4839291    C00002955441                2           2253   \n",
       "\n",
       "  Kiestra_CS_DESCRIPTION                                          SCAN_PATH  \\\n",
       "0                Default  Unknown\\9991750612\\C00002955441\\Default\\C00002...   \n",
       "1     Blood agar General  Unknown\\9991750612\\C00002955441\\BloodAgarGener...   \n",
       "2    Blood agar Colonies  Unknown\\9991750612\\C00002955441\\BloodAgarColon...   \n",
       "3                Default  Unknown\\9991750612\\C00002955441\\Default\\C00002...   \n",
       "4     Blood agar General  Unknown\\9991750612\\C00002955441\\BloodAgarGener...   \n",
       "\n",
       "   Результат  RESULT  \n",
       "0       11.0    True  \n",
       "1       11.0    True  \n",
       "2       11.0    True  \n",
       "3       11.0    True  \n",
       "4       11.0    True  "
      ]
     },
     "execution_count": 20,
     "metadata": {},
     "output_type": "execute_result"
    }
   ],
   "source": [
    "description = pd.read_csv(DESCR, \",\", decimal=\".\",\n",
    "                          index_col=0, dayfirst=True,\n",
    "                          encoding='utf-8')\n",
    "description = description[COLUMNS]\n",
    "description = add_result(description)\n",
    "if len(PROFILE) > 0:\n",
    "    description = description[description[\"Kiestra_CS_DESCRIPTION\"].isin(PROFILE)]\n",
    "description.head()"
   ]
  },
  {
   "cell_type": "markdown",
   "metadata": {},
   "source": [
    "# Делим на Train и Test"
   ]
  },
  {
   "cell_type": "markdown",
   "metadata": {},
   "source": [
    "Все пациенты"
   ]
  },
  {
   "cell_type": "code",
   "execution_count": 21,
   "metadata": {},
   "outputs": [
    {
     "data": {
      "text/html": [
       "<div>\n",
       "<style scoped>\n",
       "    .dataframe tbody tr th:only-of-type {\n",
       "        vertical-align: middle;\n",
       "    }\n",
       "\n",
       "    .dataframe tbody tr th {\n",
       "        vertical-align: top;\n",
       "    }\n",
       "\n",
       "    .dataframe thead th {\n",
       "        text-align: right;\n",
       "    }\n",
       "</style>\n",
       "<table border=\"1\" class=\"dataframe\">\n",
       "  <thead>\n",
       "    <tr style=\"text-align: right;\">\n",
       "      <th></th>\n",
       "      <th>RESULT</th>\n",
       "    </tr>\n",
       "    <tr>\n",
       "      <th>Номер</th>\n",
       "      <th></th>\n",
       "    </tr>\n",
       "  </thead>\n",
       "  <tbody>\n",
       "    <tr>\n",
       "      <th>1 106 763 898</th>\n",
       "      <td>True</td>\n",
       "    </tr>\n",
       "    <tr>\n",
       "      <th>1 107 334 057</th>\n",
       "      <td>True</td>\n",
       "    </tr>\n",
       "    <tr>\n",
       "      <th>1 107 334 142</th>\n",
       "      <td>False</td>\n",
       "    </tr>\n",
       "    <tr>\n",
       "      <th>1 107 334 193</th>\n",
       "      <td>True</td>\n",
       "    </tr>\n",
       "    <tr>\n",
       "      <th>1 107 439 324</th>\n",
       "      <td>True</td>\n",
       "    </tr>\n",
       "    <tr>\n",
       "      <th>...</th>\n",
       "      <td>...</td>\n",
       "    </tr>\n",
       "    <tr>\n",
       "      <th>9 999 234 331</th>\n",
       "      <td>True</td>\n",
       "    </tr>\n",
       "    <tr>\n",
       "      <th>9 999 234 354</th>\n",
       "      <td>False</td>\n",
       "    </tr>\n",
       "    <tr>\n",
       "      <th>9 999 234 364</th>\n",
       "      <td>True</td>\n",
       "    </tr>\n",
       "    <tr>\n",
       "      <th>9 999 234 374</th>\n",
       "      <td>True</td>\n",
       "    </tr>\n",
       "    <tr>\n",
       "      <th>9 999 234 383</th>\n",
       "      <td>True</td>\n",
       "    </tr>\n",
       "  </tbody>\n",
       "</table>\n",
       "<p>3490 rows × 1 columns</p>\n",
       "</div>"
      ],
      "text/plain": [
       "               RESULT\n",
       "Номер                \n",
       "1 106 763 898    True\n",
       "1 107 334 057    True\n",
       "1 107 334 142   False\n",
       "1 107 334 193    True\n",
       "1 107 439 324    True\n",
       "...               ...\n",
       "9 999 234 331    True\n",
       "9 999 234 354   False\n",
       "9 999 234 364    True\n",
       "9 999 234 374    True\n",
       "9 999 234 383    True\n",
       "\n",
       "[3490 rows x 1 columns]"
      ]
     },
     "execution_count": 21,
     "metadata": {},
     "output_type": "execute_result"
    }
   ],
   "source": [
    "patients = description[[\"Номер\", \"RESULT\"]].groupby(\"Номер\").mean()\n",
    "patients"
   ]
  },
  {
   "cell_type": "code",
   "execution_count": 22,
   "metadata": {},
   "outputs": [],
   "source": [
    "ALL_NOGROWTH = len(patients[patients['RESULT']==False])\n",
    "ALL_UNKNOWN = len(patients[patients['RESULT']==True])"
   ]
  },
  {
   "cell_type": "markdown",
   "metadata": {},
   "source": [
    "Делим на выборки, select определена выше"
   ]
  },
  {
   "cell_type": "code",
   "execution_count": 23,
   "metadata": {},
   "outputs": [
    {
     "name": "stdout",
     "output_type": "stream",
     "text": [
      "2569 643 0.8 3212\n",
      "222 56 0.8 278\n"
     ]
    }
   ],
   "source": [
    "unknown_train, unknown_test = select(patients[patients[\"RESULT\"]].index, ALL_UNKNOWN, train=TRAIN)\n",
    "no_growth_train, no_growth_test = select(patients[~patients[\"RESULT\"]].index, ALL_NOGROWTH, train=TRAIN)\n",
    "print(len(unknown_train), len(unknown_test), TRAIN, ALL_UNKNOWN)\n",
    "print(len(no_growth_train), len(no_growth_test), TRAIN, ALL_NOGROWTH)"
   ]
  },
  {
   "cell_type": "markdown",
   "metadata": {},
   "source": [
    "# Функция считывания картинок и группировки"
   ]
  },
  {
   "cell_type": "markdown",
   "metadata": {},
   "source": [
    "Считываем по каждому участнику списка"
   ]
  },
  {
   "cell_type": "code",
   "execution_count": 24,
   "metadata": {},
   "outputs": [],
   "source": [
    "EXPERIMENT = [\"Номер\", \"SCAN_PATH\", \"Kiestra_SCAN_NR\", \"Kiestra_CS_DESCRIPTION\", \"Kiestra_BARCODE\"]\n",
    "PATIENTS = description[EXPERIMENT].groupby(\"Номер\")\n",
    "def read(patients, select=lambda x: x, silent=False):\n",
    "    IMAGES = []\n",
    "    filenames = []\n",
    "    groups = []\n",
    "    wrap = lambda x: x if silent else tqdm(x)\n",
    "    # Пациенты\n",
    "    for index in wrap(patients):\n",
    "        try:\n",
    "            group = PATIENTS.get_group(index)\n",
    "            # Чашки\n",
    "            one_person = []\n",
    "            one_person_images = []\n",
    "            for barcode, btable in group.groupby(\"Kiestra_BARCODE\"):\n",
    "                \n",
    "                # Профили\n",
    "                for profile, ptable in btable.groupby(\"Kiestra_CS_DESCRIPTION\"):\n",
    "                    # Пути\n",
    "                    one_person.append(ptable)\n",
    "                    for path in select(sorted(ptable[\"SCAN_PATH\"])):\n",
    "                        #print(index, barcode, profile, path.split(\"_\")[1])\n",
    "                        path = os.path.join(PATH, path)\n",
    "                        one_person_images.append(np.asarray(Image.open(path)))\n",
    "                        filenames.append(path)\n",
    "            groups.append(one_person)\n",
    "            IMAGES.append(one_person_images)\n",
    "        except:\n",
    "            continue\n",
    "    IMAGES = np.asarray(IMAGES)\n",
    "    groups = np.asarray(groups)\n",
    "    return filenames, IMAGES, groups"
   ]
  },
  {
   "cell_type": "markdown",
   "metadata": {},
   "source": [
    "Демо"
   ]
  },
  {
   "cell_type": "markdown",
   "metadata": {},
   "source": [
    "# Cписок пар изображений для каждого эксперимента"
   ]
  },
  {
   "cell_type": "code",
   "execution_count": 25,
   "metadata": {},
   "outputs": [],
   "source": [
    "def pictures_num_to_differ(table):\n",
    "    numbers = []\n",
    "    for person in table:\n",
    "        one_person_numbers = []\n",
    "        count = -1\n",
    "        for groups in person:\n",
    "            count+=1\n",
    "            for i in range(len(groups)-1):\n",
    "                one_person_numbers.append((count,count+1))\n",
    "                count+=1\n",
    "        numbers.append(np.array(one_person_numbers))\n",
    "    return numbers"
   ]
  },
  {
   "cell_type": "markdown",
   "metadata": {},
   "source": [
    "# Список вычетов одного изображения из другого (работает пока медленно)"
   ]
  },
  {
   "cell_type": "code",
   "execution_count": 26,
   "metadata": {},
   "outputs": [],
   "source": [
    "def image_subtraction(images, numbers):\n",
    "    subtractions = []\n",
    "    all_subs = []\n",
    "    for p_img, p_num in tqdm(zip(images, numbers)):\n",
    "        person_subtractions = []\n",
    "        for i in p_num:\n",
    "            person_subtractions.append(abs(p_img[i[1]].astype('int16')-p_img[i[0]].astype('int16')))\n",
    "        subtractions.append(person_subtractions)\n",
    "        all_subs.extend(person_subtractions)\n",
    "    return subtractions, all_subs"
   ]
  },
  {
   "cell_type": "code",
   "execution_count": 27,
   "metadata": {
    "scrolled": false
   },
   "outputs": [
    {
     "name": "stderr",
     "output_type": "stream",
     "text": [
      "100%|████████████████████████████████████████████████████████████████████████████████████| 1/1 [00:02<00:00,  2.73s/it]\n",
      "C:\\ProgramData\\Anaconda3\\envs\\Lazuhin\\lib\\site-packages\\numpy\\core\\_asarray.py:83: VisibleDeprecationWarning: Creating an ndarray from ragged nested sequences (which is a list-or-tuple of lists-or-tuples-or ndarrays with different lengths or shapes) is deprecated. If you meant to do this, you must specify 'dtype=object' when creating the ndarray\n",
      "  return array(a, dtype, copy=False, order=order)\n"
     ]
    }
   ],
   "source": [
    "_, images_ng, table_ng = read(no_growth_train[:150], silent=False)"
   ]
  },
  {
   "cell_type": "code",
   "execution_count": 29,
   "metadata": {},
   "outputs": [
    {
     "data": {
      "text/plain": [
       "<matplotlib.image.AxesImage at 0x24639459ba8>"
      ]
     },
     "execution_count": 29,
     "metadata": {},
     "output_type": "execute_result"
    },
    {
     "data": {
      "image/png": "[encoded data removed]",
      "text/plain": [
       "<Figure size 432x288 with 1 Axes>"
      ]
     },
     "metadata": {
      "needs_background": "light"
     },
     "output_type": "display_data"
    }
   ],
   "source": [
    "plt.imshow(images_ng[0][0])"
   ]
  },
  {
   "cell_type": "code",
   "execution_count": 117,
   "metadata": {},
   "outputs": [
    {
     "name": "stderr",
     "output_type": "stream",
     "text": [
      "100%|████████████████████████████████████████████████████████████████████████████████| 150/150 [07:29<00:00,  2.99s/it]\n"
     ]
    }
   ],
   "source": [
    "_, images_un, table_un = read(unknown_train[:150], silent=False)"
   ]
  },
  {
   "cell_type": "code",
   "execution_count": 118,
   "metadata": {},
   "outputs": [],
   "source": [
    "numbers_ng = pictures_num_to_differ(table_ng)"
   ]
  },
  {
   "cell_type": "code",
   "execution_count": 119,
   "metadata": {},
   "outputs": [],
   "source": [
    "numbers_un = pictures_num_to_differ(table_un)"
   ]
  },
  {
   "cell_type": "code",
   "execution_count": 120,
   "metadata": {},
   "outputs": [
    {
     "name": "stderr",
     "output_type": "stream",
     "text": [
      "140it [03:33,  1.53s/it]\n"
     ]
    }
   ],
   "source": [
    "per_subs_ng, all_subs_ng = image_subtraction(images_ng, numbers_ng)"
   ]
  },
  {
   "cell_type": "code",
   "execution_count": 121,
   "metadata": {},
   "outputs": [
    {
     "name": "stderr",
     "output_type": "stream",
     "text": [
      "132it [03:50,  1.74s/it]\n"
     ]
    }
   ],
   "source": [
    "per_subs_un, all_subs_un = image_subtraction(images_un, numbers_un)"
   ]
  },
  {
   "cell_type": "code",
   "execution_count": 22,
   "metadata": {},
   "outputs": [
    {
     "data": {
      "text/plain": [
       "1383"
      ]
     },
     "execution_count": 22,
     "metadata": {},
     "output_type": "execute_result"
    }
   ],
   "source": [
    "len(all_subs_un)"
   ]
  },
  {
   "cell_type": "code",
   "execution_count": 23,
   "metadata": {},
   "outputs": [
    {
     "data": {
      "text/plain": [
       "1446"
      ]
     },
     "execution_count": 23,
     "metadata": {},
     "output_type": "execute_result"
    }
   ],
   "source": [
    "len(all_subs_ng)"
   ]
  },
  {
   "cell_type": "code",
   "execution_count": 122,
   "metadata": {},
   "outputs": [
    {
     "name": "stdout",
     "output_type": "stream",
     "text": [
      "5269\n"
     ]
    }
   ],
   "source": [
    "y = [0]*len(all_subs_un)\n",
    "y.extend([1]*len(all_subs_ng))\n",
    "print(len(y))"
   ]
  },
  {
   "cell_type": "code",
   "execution_count": 123,
   "metadata": {},
   "outputs": [
    {
     "name": "stderr",
     "output_type": "stream",
     "text": [
      "100%|████████████████████████████████████████████████████████████████████████████| 2660/2660 [00:01<00:00, 2213.24it/s]\n"
     ]
    }
   ],
   "source": [
    "X = []\n",
    "for i in tqdm(all_subs_un):\n",
    "    X.append(list(i))  "
   ]
  },
  {
   "cell_type": "code",
   "execution_count": 124,
   "metadata": {},
   "outputs": [
    {
     "name": "stderr",
     "output_type": "stream",
     "text": [
      "100%|████████████████████████████████████████████████████████████████████████████| 2609/2609 [00:01<00:00, 2108.45it/s]\n"
     ]
    }
   ],
   "source": [
    "for i in tqdm(all_subs_ng):\n",
    "    X.append(list(i))"
   ]
  },
  {
   "cell_type": "code",
   "execution_count": null,
   "metadata": {},
   "outputs": [],
   "source": [
    "X_data = []\n",
    "for i in tqdm(range(len(X))):\n",
    "    X_data.append(PREPROCESS(X[i]))"
   ]
  },
  {
   "cell_type": "code",
   "execution_count": null,
   "metadata": {},
   "outputs": [],
   "source": [
    "X_data = np.array(X_data)"
   ]
  },
  {
   "cell_type": "code",
   "execution_count": 63,
   "metadata": {},
   "outputs": [
    {
     "data": {
      "text/plain": [
       "(2829, 200, 200, 3)"
      ]
     },
     "execution_count": 63,
     "metadata": {},
     "output_type": "execute_result"
    }
   ],
   "source": [
    "X_data.shape"
   ]
  },
  {
   "cell_type": "code",
   "execution_count": 129,
   "metadata": {},
   "outputs": [],
   "source": [
    "from sklearn.utils import shuffle"
   ]
  },
  {
   "cell_type": "code",
   "execution_count": 130,
   "metadata": {},
   "outputs": [],
   "source": [
    "X_data, y = shuffle(X_data,y)"
   ]
  },
  {
   "cell_type": "code",
   "execution_count": 38,
   "metadata": {},
   "outputs": [],
   "source": [
    "import tensorflow as tf\n",
    "from tensorflow.keras import layers\n",
    "from tensorflow.keras.callbacks import LearningRateScheduler\n",
    "from tensorflow.keras import regularizers"
   ]
  },
  {
   "cell_type": "code",
   "execution_count": 103,
   "metadata": {},
   "outputs": [],
   "source": [
    "datagen_train = tf.keras.preprocessing.image.ImageDataGenerator(\n",
    "    featurewise_center=True,\n",
    "    featurewise_std_normalization=True,\n",
    "    rotation_range=35,\n",
    "    horizontal_flip=True,\n",
    "    rescale=1./255)\n",
    "datagen_val = tf.keras.preprocessing.image.ImageDataGenerator(rescale=1./255)"
   ]
  },
  {
   "cell_type": "code",
   "execution_count": 105,
   "metadata": {},
   "outputs": [],
   "source": [
    "from sklearn.model_selection import train_test_split"
   ]
  },
  {
   "cell_type": "code",
   "execution_count": 106,
   "metadata": {},
   "outputs": [],
   "source": [
    "X_train, X_val, y_train, y_val = train_test_split(X_data, y, test_size=0.2, random_state=42)"
   ]
  },
  {
   "cell_type": "code",
   "execution_count": 104,
   "metadata": {},
   "outputs": [],
   "source": [
    "datagen_train.fit(X)"
   ]
  },
  {
   "cell_type": "code",
   "execution_count": 107,
   "metadata": {},
   "outputs": [],
   "source": [
    "train = datagen_train.flow(np.array(X_train), y_train, batch_size=32)\n",
    "validation = datagen_val.flow(np.array(X_val), y_val, batch_size=32)"
   ]
  },
  {
   "cell_type": "code",
   "execution_count": 56,
   "metadata": {},
   "outputs": [],
   "source": [
    "learning_rate_reduction = LearningRateScheduler(lambda x: 1e-3 * 0.9 ** x)"
   ]
  },
  {
   "cell_type": "code",
   "execution_count": null,
   "metadata": {},
   "outputs": [],
   "source": [
    "model = tf.keras.Sequential()\n",
    "model.add(layers.Conv2D(32, kernel_size=(3,3), activation='elu', padding = 'same',kernel_initializer='he_uniform', input_shape=(200,200,3)))\n",
    "model.add(layers.BatchNormalization())\n",
    "model.add(layers.AveragePooling2D(pool_size=(2,2)))\n",
    "#model.add(layers.Dropout(0.5))\n",
    "model.add(layers.Conv2D(64, kernel_size=(3,3), activation='elu', padding = 'same', kernel_initializer='he_uniform'))\n",
    "model.add(layers.BatchNormalization())\n",
    "model.add(layers.AveragePooling2D(pool_size=(2,2)))\n",
    "model.add(layers.Conv2D(128, kernel_size=(3,3), activation='elu', padding = 'same', kernel_initializer='he_uniform'))\n",
    "model.add(layers.BatchNormalization())\n",
    "model.add(layers.AveragePooling2D(pool_size=(2,2)))\n",
    "#model.add(layers.Dropout(0.5))\n",
    "#model.add(layers.Conv2D(256, kernel_size=(3,3), activation='relu', padding = 'same', kernel_initializer='he_uniform'))\n",
    "#model.add(layers.BatchNormalization())\n",
    "#model.add(layers.AveragePooling2D(pool_size=(2,2)))\n",
    "#model.add(layers.Dropout(0.5))\n",
    "model.add(layers.Flatten())\n",
    "model.add(layers.Dense(256, activation='relu'))\n",
    "model.add(layers.Dropout(0.2))\n",
    "model.add(layers.Dense(128, activation='relu'))\n",
    "model.add(layers.Dense(1))\n",
    "model.add(layers.Activation('sigmoid'))"
   ]
  },
  {
   "cell_type": "code",
   "execution_count": null,
   "metadata": {},
   "outputs": [],
   "source": [
    "model.compile(loss = 'binary_crossentropy',\n",
    "              optimizer='adam',\n",
    "              metrics=['accuracy'])"
   ]
  },
  {
   "cell_type": "code",
   "execution_count": null,
   "metadata": {},
   "outputs": [],
   "source": [
    "model.fit(\n",
    "        train,\n",
    "        steps_per_epoch = len(X_train) / 32,\n",
    "        epochs=30,\n",
    "        verbose = 1,\n",
    "        validation_data = validation,\n",
    "        validation_steps = len(X_val) / 32,\n",
    "        callbacks = [learning_rate_reduction])"
   ]
  },
  {
   "cell_type": "code",
   "execution_count": null,
   "metadata": {},
   "outputs": [],
   "source": [
    "#model.fit(\n",
    "#        X, y,\n",
    "#        batch_size = 32,\n",
    "#        epochs=30,\n",
    "#        verbose = 1,\n",
    "#        validation_split = 0.1,\n",
    "#        callbacks = [learning_rate_reduction])"
   ]
  },
  {
   "cell_type": "markdown",
   "metadata": {},
   "source": [
    "# Функция предобработки"
   ]
  },
  {
   "cell_type": "markdown",
   "metadata": {},
   "source": [
    "Параметры - исходный размер, размер границ и размер до которого ресайзим"
   ]
  },
  {
   "cell_type": "code",
   "execution_count": 32,
   "metadata": {},
   "outputs": [],
   "source": [
    "D = 2000\n",
    "RIM = 300\n",
    "SIZE = 200"
   ]
  },
  {
   "cell_type": "markdown",
   "metadata": {},
   "source": [
    "Функция предобработки, сглаживание и эквализация гистограммы закоментированы, тут только ресайз и обрезка"
   ]
  },
  {
   "cell_type": "code",
   "execution_count": 88,
   "metadata": {},
   "outputs": [
    {
     "name": "stderr",
     "output_type": "stream",
     "text": [
      "C:\\ProgramData\\Anaconda3\\envs\\Lazuhin\\lib\\site-packages\\ipykernel_launcher.py:3: FutureWarning: circle is deprecated in favor of disk.circle will be removed in version 0.19\n",
      "  This is separate from the ipykernel package so we can avoid doing imports until\n"
     ]
    }
   ],
   "source": [
    "CENTER = D/2 - RIM\n",
    "MASK = np.zeros((D, D, 3))[RIM:-RIM, RIM:-RIM]\n",
    "MASK[circle(CENTER, CENTER, CENTER)] = 1\n",
    "def PREPROCESS(image):\n",
    "    \n",
    "    # Cutting circle\n",
    "    image = image[RIM:-RIM, RIM:-RIM]\n",
    "    image = image * MASK\n",
    "    \n",
    "    # Equalizing histogram\n",
    "    #image /= 255\n",
    "    #image = exposure.equalize_adapthist(image)\n",
    "    \n",
    "    # Filtering\n",
    "    #image = filters.gaussian(image, sigma=1.0, multichannel=True)\n",
    "    \n",
    "    # Resizing\n",
    "    image = transform.resize(image, (SIZE, SIZE,3))\n",
    "    \n",
    "    return image.astype(int)"
   ]
  }
 ],
 "metadata": {
  "kernelspec": {
   "display_name": "Python 3",
   "language": "python",
   "name": "python3"
  },
  "language_info": {
   "codemirror_mode": {
    "name": "ipython",
    "version": 3
   },
   "file_extension": ".py",
   "mimetype": "text/x-python",
   "name": "python",
   "nbconvert_exporter": "python",
   "pygments_lexer": "ipython3",
   "version": "3.6.10"
  }
 },
 "nbformat": 4,
 "nbformat_minor": 4
}
